{
 "cells": [
  {
   "cell_type": "code",
   "execution_count": 1,
   "id": "c24d0e7b-e715-4779-8847-a3130576acc6",
   "metadata": {},
   "outputs": [],
   "source": [
    "import pandas as pd\n",
    "import matplotlib.pyplot as plt\n",
    "import seaborn as sns\n",
    "\n",
    "sns.set(style=\"whitegrid\")  # because vibes matter\n"
   ]
  },
  {
   "cell_type": "code",
   "execution_count": 2,
   "id": "4dd95ea1-523a-4be3-923e-d88e93b804bb",
   "metadata": {},
   "outputs": [],
   "source": [
    "users = pd.read_csv('../data/processed/users.csv')\n",
    "campaigns = pd.read_csv('../data/processed/campaigns.csv')\n",
    "interactions = pd.read_csv('../data/processed/interactions.csv')\n"
   ]
  },
  {
   "cell_type": "code",
   "execution_count": 3,
   "id": "f680bf1d-8e0c-4536-996b-ef4ffbc3c532",
   "metadata": {},
   "outputs": [
    {
     "name": "stdout",
     "output_type": "stream",
     "text": [
      "Users sample:\n"
     ]
    },
    {
     "data": {
      "text/html": [
       "<div>\n",
       "<style scoped>\n",
       "    .dataframe tbody tr th:only-of-type {\n",
       "        vertical-align: middle;\n",
       "    }\n",
       "\n",
       "    .dataframe tbody tr th {\n",
       "        vertical-align: top;\n",
       "    }\n",
       "\n",
       "    .dataframe thead th {\n",
       "        text-align: right;\n",
       "    }\n",
       "</style>\n",
       "<table border=\"1\" class=\"dataframe\">\n",
       "  <thead>\n",
       "    <tr style=\"text-align: right;\">\n",
       "      <th></th>\n",
       "      <th>user_id</th>\n",
       "      <th>age</th>\n",
       "      <th>region</th>\n",
       "      <th>device</th>\n",
       "    </tr>\n",
       "  </thead>\n",
       "  <tbody>\n",
       "    <tr>\n",
       "      <th>0</th>\n",
       "      <td>1</td>\n",
       "      <td>30</td>\n",
       "      <td>Asia</td>\n",
       "      <td>Desktop</td>\n",
       "    </tr>\n",
       "    <tr>\n",
       "      <th>1</th>\n",
       "      <td>2</td>\n",
       "      <td>37</td>\n",
       "      <td>Asia</td>\n",
       "      <td>Tablet</td>\n",
       "    </tr>\n",
       "    <tr>\n",
       "      <th>2</th>\n",
       "      <td>3</td>\n",
       "      <td>38</td>\n",
       "      <td>South America</td>\n",
       "      <td>Desktop</td>\n",
       "    </tr>\n",
       "    <tr>\n",
       "      <th>3</th>\n",
       "      <td>4</td>\n",
       "      <td>44</td>\n",
       "      <td>Asia</td>\n",
       "      <td>Desktop</td>\n",
       "    </tr>\n",
       "    <tr>\n",
       "      <th>4</th>\n",
       "      <td>5</td>\n",
       "      <td>57</td>\n",
       "      <td>Europe</td>\n",
       "      <td>Mobile</td>\n",
       "    </tr>\n",
       "  </tbody>\n",
       "</table>\n",
       "</div>"
      ],
      "text/plain": [
       "   user_id  age         region   device\n",
       "0        1   30           Asia  Desktop\n",
       "1        2   37           Asia   Tablet\n",
       "2        3   38  South America  Desktop\n",
       "3        4   44           Asia  Desktop\n",
       "4        5   57         Europe   Mobile"
      ]
     },
     "metadata": {},
     "output_type": "display_data"
    },
    {
     "name": "stdout",
     "output_type": "stream",
     "text": [
      "Campaigns sample:\n"
     ]
    },
    {
     "data": {
      "text/html": [
       "<div>\n",
       "<style scoped>\n",
       "    .dataframe tbody tr th:only-of-type {\n",
       "        vertical-align: middle;\n",
       "    }\n",
       "\n",
       "    .dataframe tbody tr th {\n",
       "        vertical-align: top;\n",
       "    }\n",
       "\n",
       "    .dataframe thead th {\n",
       "        text-align: right;\n",
       "    }\n",
       "</style>\n",
       "<table border=\"1\" class=\"dataframe\">\n",
       "  <thead>\n",
       "    <tr style=\"text-align: right;\">\n",
       "      <th></th>\n",
       "      <th>campaign_id</th>\n",
       "      <th>campaign_name</th>\n",
       "      <th>bid_strategy</th>\n",
       "      <th>daily_budget</th>\n",
       "    </tr>\n",
       "  </thead>\n",
       "  <tbody>\n",
       "    <tr>\n",
       "      <th>0</th>\n",
       "      <td>1</td>\n",
       "      <td>Campaign_1</td>\n",
       "      <td>Target CPA</td>\n",
       "      <td>714</td>\n",
       "    </tr>\n",
       "    <tr>\n",
       "      <th>1</th>\n",
       "      <td>2</td>\n",
       "      <td>Campaign_2</td>\n",
       "      <td>Target CPA</td>\n",
       "      <td>684</td>\n",
       "    </tr>\n",
       "    <tr>\n",
       "      <th>2</th>\n",
       "      <td>3</td>\n",
       "      <td>Campaign_3</td>\n",
       "      <td>Target CPA</td>\n",
       "      <td>972</td>\n",
       "    </tr>\n",
       "    <tr>\n",
       "      <th>3</th>\n",
       "      <td>4</td>\n",
       "      <td>Campaign_4</td>\n",
       "      <td>Maximize Clicks</td>\n",
       "      <td>733</td>\n",
       "    </tr>\n",
       "    <tr>\n",
       "      <th>4</th>\n",
       "      <td>5</td>\n",
       "      <td>Campaign_5</td>\n",
       "      <td>Manual CPC</td>\n",
       "      <td>604</td>\n",
       "    </tr>\n",
       "  </tbody>\n",
       "</table>\n",
       "</div>"
      ],
      "text/plain": [
       "   campaign_id campaign_name     bid_strategy  daily_budget\n",
       "0            1    Campaign_1       Target CPA           714\n",
       "1            2    Campaign_2       Target CPA           684\n",
       "2            3    Campaign_3       Target CPA           972\n",
       "3            4    Campaign_4  Maximize Clicks           733\n",
       "4            5    Campaign_5       Manual CPC           604"
      ]
     },
     "metadata": {},
     "output_type": "display_data"
    },
    {
     "name": "stdout",
     "output_type": "stream",
     "text": [
      "Interactions sample:\n"
     ]
    },
    {
     "data": {
      "text/html": [
       "<div>\n",
       "<style scoped>\n",
       "    .dataframe tbody tr th:only-of-type {\n",
       "        vertical-align: middle;\n",
       "    }\n",
       "\n",
       "    .dataframe tbody tr th {\n",
       "        vertical-align: top;\n",
       "    }\n",
       "\n",
       "    .dataframe thead th {\n",
       "        text-align: right;\n",
       "    }\n",
       "</style>\n",
       "<table border=\"1\" class=\"dataframe\">\n",
       "  <thead>\n",
       "    <tr style=\"text-align: right;\">\n",
       "      <th></th>\n",
       "      <th>user_id</th>\n",
       "      <th>campaign_id</th>\n",
       "      <th>timestamp</th>\n",
       "      <th>clicked</th>\n",
       "      <th>converted</th>\n",
       "      <th>region</th>\n",
       "      <th>device</th>\n",
       "    </tr>\n",
       "  </thead>\n",
       "  <tbody>\n",
       "    <tr>\n",
       "      <th>0</th>\n",
       "      <td>705</td>\n",
       "      <td>3</td>\n",
       "      <td>2025-06-25 17:42:54</td>\n",
       "      <td>0</td>\n",
       "      <td>0</td>\n",
       "      <td>Asia</td>\n",
       "      <td>Desktop</td>\n",
       "    </tr>\n",
       "    <tr>\n",
       "      <th>1</th>\n",
       "      <td>545</td>\n",
       "      <td>5</td>\n",
       "      <td>2025-06-27 07:29:53</td>\n",
       "      <td>0</td>\n",
       "      <td>0</td>\n",
       "      <td>Asia</td>\n",
       "      <td>Mobile</td>\n",
       "    </tr>\n",
       "    <tr>\n",
       "      <th>2</th>\n",
       "      <td>357</td>\n",
       "      <td>3</td>\n",
       "      <td>2025-06-26 10:25:42</td>\n",
       "      <td>0</td>\n",
       "      <td>0</td>\n",
       "      <td>Europe</td>\n",
       "      <td>Desktop</td>\n",
       "    </tr>\n",
       "    <tr>\n",
       "      <th>3</th>\n",
       "      <td>805</td>\n",
       "      <td>2</td>\n",
       "      <td>2025-07-01 12:13:23</td>\n",
       "      <td>0</td>\n",
       "      <td>0</td>\n",
       "      <td>Europe</td>\n",
       "      <td>Tablet</td>\n",
       "    </tr>\n",
       "    <tr>\n",
       "      <th>4</th>\n",
       "      <td>351</td>\n",
       "      <td>1</td>\n",
       "      <td>2025-07-01 06:28:02</td>\n",
       "      <td>0</td>\n",
       "      <td>0</td>\n",
       "      <td>South America</td>\n",
       "      <td>Tablet</td>\n",
       "    </tr>\n",
       "  </tbody>\n",
       "</table>\n",
       "</div>"
      ],
      "text/plain": [
       "   user_id  campaign_id            timestamp  clicked  converted  \\\n",
       "0      705            3  2025-06-25 17:42:54        0          0   \n",
       "1      545            5  2025-06-27 07:29:53        0          0   \n",
       "2      357            3  2025-06-26 10:25:42        0          0   \n",
       "3      805            2  2025-07-01 12:13:23        0          0   \n",
       "4      351            1  2025-07-01 06:28:02        0          0   \n",
       "\n",
       "          region   device  \n",
       "0           Asia  Desktop  \n",
       "1           Asia   Mobile  \n",
       "2         Europe  Desktop  \n",
       "3         Europe   Tablet  \n",
       "4  South America   Tablet  "
      ]
     },
     "metadata": {},
     "output_type": "display_data"
    }
   ],
   "source": [
    "print(\"Users sample:\")\n",
    "display(users.head())\n",
    "\n",
    "print(\"Campaigns sample:\")\n",
    "display(campaigns.head())\n",
    "\n",
    "print(\"Interactions sample:\")\n",
    "display(interactions.head())\n"
   ]
  },
  {
   "cell_type": "code",
   "execution_count": 4,
   "id": "da79def0-6b87-4e10-aed9-2d2c1b5ee8a0",
   "metadata": {},
   "outputs": [
    {
     "name": "stdout",
     "output_type": "stream",
     "text": [
      "🧍🏽‍♀️ Users: (1000, 4)\n",
      "📢 Campaigns: (5, 4)\n",
      "📡 Interactions: (10000, 7)\n",
      "\n",
      "Average CTR: 0.0964\n",
      "Average CVR: 0.0082\n"
     ]
    }
   ],
   "source": [
    "print(\"🧍🏽‍♀️ Users:\", users.shape)\n",
    "print(\"📢 Campaigns:\", campaigns.shape)\n",
    "print(\"📡 Interactions:\", interactions.shape)\n",
    "\n",
    "print(\"\\nAverage CTR:\", interactions['clicked'].mean())\n",
    "print(\"Average CVR:\", interactions['converted'].mean())\n"
   ]
  },
  {
   "cell_type": "code",
   "execution_count": 5,
   "id": "b82eb99b-fa03-4bc3-8fbc-3e6d2ca5ebfb",
   "metadata": {},
   "outputs": [
    {
     "data": {
      "image/png": "[encoded data removed]",
      "text/plain": [
       "<Figure size 800x400 with 1 Axes>"
      ]
     },
     "metadata": {},
     "output_type": "display_data"
    }
   ],
   "source": [
    "region_ctr = interactions.groupby('region')['clicked'].mean().sort_values()\n",
    "\n",
    "region_ctr.plot(kind='barh', figsize=(8, 4), title='Click-Through Rate by Region')\n",
    "plt.xlabel('CTR')\n",
    "plt.tight_layout()\n",
    "plt.show()\n"
   ]
  },
  {
   "cell_type": "code",
   "execution_count": null,
   "id": "7a80b798-3718-4a26-8345-1e17ab82e9ac",
   "metadata": {},
   "outputs": [],
   "source": []
  },
  {
   "cell_type": "code",
   "execution_count": null,
   "id": "f3435195-1de3-4216-968e-7012e99610d6",
   "metadata": {},
   "outputs": [],
   "source": []
  }
 ],
 "metadata": {
  "kernelspec": {
   "display_name": "Python 3 (ipykernel)",
   "language": "python",
   "name": "python3"
  },
  "language_info": {
   "codemirror_mode": {
    "name": "ipython",
    "version": 3
   },
   "file_extension": ".py",
   "mimetype": "text/x-python",
   "name": "python",
   "nbconvert_exporter": "python",
   "pygments_lexer": "ipython3",
   "version": "3.12.10"
  }
 },
 "nbformat": 4,
 "nbformat_minor": 5
}
